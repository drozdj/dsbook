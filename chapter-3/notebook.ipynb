{
 "cells": [
  {
   "cell_type": "code",
   "execution_count": 1,
   "metadata": {},
   "outputs": [],
   "source": [
    "from metaflow import Flow"
   ]
  },
  {
   "cell_type": "code",
   "execution_count": 2,
   "metadata": {},
   "outputs": [],
   "source": [
    "run = Flow('ClassifierTrainFlow').latest_run"
   ]
  },
  {
   "cell_type": "code",
   "execution_count": 3,
   "metadata": {},
   "outputs": [
    {
     "data": {
      "text/plain": [
       "Run('ClassifierTrainFlow/1715864864712404')"
      ]
     },
     "execution_count": 3,
     "metadata": {},
     "output_type": "execute_result"
    }
   ],
   "source": [
    "run"
   ]
  },
  {
   "cell_type": "code",
   "execution_count": 5,
   "metadata": {},
   "outputs": [
    {
     "name": "stdout",
     "output_type": "stream",
     "text": [
      "2024-05-15 20:50:41.389000\n"
     ]
    }
   ],
   "source": [
    "from datetime import datetime\n",
    "dt = run.created_at\n",
    "print(dt.strftime(\"%Y-%m-%d %H:%M:%S.%f\"))"
   ]
  },
  {
   "cell_type": "code",
   "execution_count": 4,
   "metadata": {},
   "outputs": [],
   "source": [
    "train_data = run['start'].task.data.train_data\n",
    "test_data = run['start'].task.data.test_data\n",
    "\n",
    "train_labels = run['start'].task.data.train_labels\n",
    "test_labels = run['start'].task.data.test_labels\n"
   ]
  },
  {
   "cell_type": "code",
   "execution_count": 5,
   "metadata": {},
   "outputs": [
    {
     "name": "stdout",
     "output_type": "stream",
     "text": [
      "Task ClassifierTrainFlow/1715799041386416/train_svm/3 failed:\n",
      "-- Stdout --\n",
      "\n",
      "-- Stderr --\n",
      "<flow ClassifierTrainFlow step train_svm> failed:\n",
      "    Internal error\n",
      "Traceback (most recent call last):\n",
      "  File \"/home/notjdr/miniconda3/envs/datasci/lib/python3.10/site-packages/metaflow/cli.py\", line 1177, in main\n",
      "    start(auto_envvar_prefix=\"METAFLOW\", obj=state)\n",
      "  File \"/home/notjdr/miniconda3/envs/datasci/lib/python3.10/site-packages/metaflow/tracing/__init__.py\", line 27, in wrapper_func\n",
      "    return func(args, kwargs)\n",
      "  File \"/home/notjdr/miniconda3/envs/datasci/lib/python3.10/site-packages/metaflow/_vendor/click/core.py\", line 829, in __call__\n",
      "    return self.main(args, kwargs)\n",
      "  File \"/home/notjdr/miniconda3/envs/datasci/lib/python3.10/site-packages/metaflow/_vendor/click/core.py\", line 782, in main\n",
      "    rv = self.invoke(ctx)\n",
      "  File \"/home/notjdr/miniconda3/envs/datasci/lib/python3.10/site-packages/metaflow/_vendor/click/core.py\", line 1259, in invoke\n",
      "    return _process_result(sub_ctx.command.invoke(sub_ctx))\n",
      "  File \"/home/notjdr/miniconda3/envs/datasci/lib/python3.10/site-packages/metaflow/_vendor/click/core.py\", line 1066, in invoke\n",
      "    return ctx.invoke(self.callback, ctx.params)\n",
      "  File \"/home/notjdr/miniconda3/envs/datasci/lib/python3.10/site-packages/metaflow/_vendor/click/core.py\", line 610, in invoke\n",
      "    return callback(args, kwargs)\n",
      "  File \"/home/notjdr/miniconda3/envs/datasci/lib/python3.10/site-packages/metaflow/_vendor/click/decorators.py\", line 21, in new_func\n",
      "    return f(get_current_context(), args, kwargs)\n",
      "  File \"/home/notjdr/miniconda3/envs/datasci/lib/python3.10/site-packages/metaflow/cli.py\", line 572, in step\n",
      "    task.run_step(\n",
      "  File \"/home/notjdr/miniconda3/envs/datasci/lib/python3.10/site-packages/metaflow/task.py\", line 619, in run_step\n",
      "    self._exec_step_function(step_func)\n",
      "  File \"/home/notjdr/miniconda3/envs/datasci/lib/python3.10/site-packages/metaflow/task.py\", line 70, in _exec_step_function\n",
      "    step_function()\n",
      "  File \"/home/notjdr/dsbook/chapter-3/classifier_train.py\", line 30, in train_svm\n",
      "    self.model.fit(self.train_data, self.train_labels)\n",
      "  File \"/home/notjdr/miniconda3/envs/datasci/lib/python3.10/site-packages/sklearn/base.py\", line 1144, in wrapper\n",
      "    estimator._validate_params()\n",
      "  File \"/home/notjdr/miniconda3/envs/datasci/lib/python3.10/site-packages/sklearn/base.py\", line 637, in _validate_params\n",
      "    validate_parameter_constraints(\n",
      "  File \"/home/notjdr/miniconda3/envs/datasci/lib/python3.10/site-packages/sklearn/utils/_param_validation.py\", line 95, in validate_parameter_constraints\n",
      "    raise InvalidParameterError(\n",
      "sklearn.utils._param_validation.InvalidParameterError: The 'kernel' parameter of SVC must be a str among {'sigmoid', 'poly', 'rbf', 'linear', 'precomputed'} or a callable. Got 'polynomial' instead.\n",
      "\n",
      "Task failed.\n",
      "\n"
     ]
    }
   ],
   "source": [
    "from metaflow import Flow, Run\n",
    "for step in Run(\"ClassifierTrainFlow/1715799041386416\"):     \n",
    "    for task in step:         \n",
    "        if not task.successful:         \n",
    "            if 'svm' in task.stderr:    \n",
    "                print(\"Task %s failed:\" % task.pathspec)             \n",
    "                print(\"-- Stdout --\")             \n",
    "                print(task.stdout)             \n",
    "                print(\"-- Stderr --\")             \n",
    "                print(task.stderr) "
   ]
  },
  {
   "cell_type": "code",
   "execution_count": 44,
   "metadata": {},
   "outputs": [],
   "source": [
    "from metaflow import Flow\n",
    "import matplotlib.pyplot as plt\n",
    "from sklearn.metrics import ConfusionMatrixDisplay"
   ]
  },
  {
   "cell_type": "code",
   "execution_count": 37,
   "metadata": {},
   "outputs": [
    {
     "data": {
      "text/plain": [
       "Run('ClassifierTrainFlow/1715808593243153')"
      ]
     },
     "execution_count": 37,
     "metadata": {},
     "output_type": "execute_result"
    }
   ],
   "source": [
    "run = Flow('ClassifierTrainFlow').latest_run\n",
    "run"
   ]
  },
  {
   "cell_type": "code",
   "execution_count": 46,
   "metadata": {},
   "outputs": [],
   "source": [
    "model, score = run.data.results[0]\n",
    "test_data = run['start'].task.data.test_data\n",
    "test_labels = run['start'].task.data.test_labels"
   ]
  },
  {
   "cell_type": "code",
   "execution_count": 52,
   "metadata": {},
   "outputs": [
    {
     "data": {
      "image/png": "[encoded data removed]",
      "text/plain": [
       "<Figure size 640x480 with 2 Axes>"
      ]
     },
     "metadata": {},
     "output_type": "display_data"
    }
   ],
   "source": [
    "disp = ConfusionMatrixDisplay.from_estimator(model, test_data, test_labels)"
   ]
  }
 ],
 "metadata": {
  "kernelspec": {
   "display_name": "datasci",
   "language": "python",
   "name": "python3"
  },
  "language_info": {
   "codemirror_mode": {
    "name": "ipython",
    "version": 3
   },
   "file_extension": ".py",
   "mimetype": "text/x-python",
   "name": "python",
   "nbconvert_exporter": "python",
   "pygments_lexer": "ipython3",
   "version": "3.10.13"
  }
 },
 "nbformat": 4,
 "nbformat_minor": 2
}
